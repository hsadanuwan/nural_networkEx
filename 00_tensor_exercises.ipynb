{
  "cells": [
    {
      "cell_type": "markdown",
      "metadata": {
        "id": "view-in-github",
        "colab_type": "text"
      },
      "source": [
        "<a href=\"https://colab.research.google.com/github/hsadanuwan/nural_networkEx/blob/main/00_tensor_exercises.ipynb\" target=\"_parent\"><img src=\"https://colab.research.google.com/assets/colab-badge.svg\" alt=\"Open In Colab\"/></a>"
      ]
    },
    {
      "cell_type": "code",
      "execution_count": null,
      "metadata": {
        "id": "SjTsT-f9b3Qh"
      },
      "outputs": [],
      "source": [
        "# Sumani\n",
        "# 22-7-2024"
      ]
    },
    {
      "cell_type": "markdown",
      "metadata": {
        "id": "z-Zaykl8b3Qj"
      },
      "source": [
        "# Tensor Exercises"
      ]
    },
    {
      "cell_type": "markdown",
      "metadata": {
        "id": "WYRT2zxob3Qk"
      },
      "source": [
        "# 1. Tensor Creation"
      ]
    },
    {
      "cell_type": "code",
      "execution_count": null,
      "metadata": {
        "colab": {
          "base_uri": "https://localhost:8080/"
        },
        "id": "rtdVFwU9b3Ql",
        "outputId": "7d2ae580-7263-415b-9781-bac23a3bf8e9"
      },
      "outputs": [
        {
          "output_type": "stream",
          "name": "stdout",
          "text": [
            "Random Tensor:\n",
            " tensor([[0.1710, 0.6999, 0.5513],\n",
            "        [0.7063, 0.2697, 0.3395],\n",
            "        [0.5286, 0.4044, 0.4616],\n",
            "        [0.0197, 0.7702, 0.4820],\n",
            "        [0.9106, 0.7155, 0.4497]]) \n",
            "\n"
          ]
        }
      ],
      "source": [
        "import torch\n",
        "# Create a tensor of shape (5, 3) filled with random values.\n",
        "random_tensor = torch.rand((5,3))\n",
        "print(\"Random Tensor:\\n\", random_tensor, \"\\n\")\n"
      ]
    },
    {
      "cell_type": "code",
      "execution_count": null,
      "metadata": {
        "colab": {
          "base_uri": "https://localhost:8080/"
        },
        "id": "zOR_yvOmb3Ql",
        "outputId": "26c7347d-400a-4d76-bba1-d44a08ad859c"
      },
      "outputs": [
        {
          "output_type": "stream",
          "name": "stdout",
          "text": [
            "Ones tensor:\n",
            " tensor([[1., 1., 1., 1.],\n",
            "        [1., 1., 1., 1.]])\n"
          ]
        }
      ],
      "source": [
        "# Create a tensor of shape (2, 4) filled with ones.\n",
        "ones_tensor=torch.ones((2,4))\n",
        "print(\"Ones tensor:\\n\",ones_tensor)"
      ]
    },
    {
      "cell_type": "code",
      "execution_count": null,
      "metadata": {
        "colab": {
          "base_uri": "https://localhost:8080/"
        },
        "id": "K07Ls8Crb3Ql",
        "outputId": "7e38bea1-7ccf-43d0-ce32-120b4a3632f5"
      },
      "outputs": [
        {
          "output_type": "stream",
          "name": "stdout",
          "text": [
            "tensor from list:\n",
            " tensor([ 5, 10, 15, 20])\n",
            "Dimensions: 1\n"
          ]
        }
      ],
      "source": [
        "# Create a tensor from a list [5, 10, 15, 20].\n",
        "my_list = ((5,10,15,20))\n",
        "tensor_list = torch.tensor(my_list)\n",
        "print(\"tensor from list:\\n\",tensor_list)\n",
        "print(\"Dimensions:\", tensor_list.ndim)"
      ]
    },
    {
      "cell_type": "code",
      "execution_count": null,
      "metadata": {
        "colab": {
          "base_uri": "https://localhost:8080/"
        },
        "id": "Uc3ILb9Hb3Qm",
        "outputId": "706c9a03-060d-42e3-b036-a96e2d1e5573"
      },
      "outputs": [
        {
          "output_type": "stream",
          "name": "stdout",
          "text": [
            "image tensor:\n",
            " tensor([[[251,  22, 113, 147, 132, 135, 238,  40],\n",
            "         [141, 247, 113,   6,  59, 251, 245, 237],\n",
            "         [ 79, 240, 250, 237,   4, 245, 106, 136],\n",
            "         [247, 193, 230, 169,  47, 140,  51, 236],\n",
            "         [ 86, 103,  66, 241, 141,  83,  73, 147],\n",
            "         [ 10,  27, 128, 252,  41,   7,  98, 117]],\n",
            "\n",
            "        [[ 42,  82, 120, 107, 113, 115,  90,  25],\n",
            "         [120, 174,  99, 219, 143, 176, 210,  42],\n",
            "         [203,  68, 100, 133, 197, 218, 118,  52],\n",
            "         [216, 215, 132, 239,  76,  15,   0, 222],\n",
            "         [ 16, 200,   6, 124, 201, 213,  97,  35],\n",
            "         [218,  88, 221,  65,  84,  40, 192,  37]],\n",
            "\n",
            "        [[ 66,  71, 227, 149, 238, 190,  70,  90],\n",
            "         [163, 122, 106, 126,  88,  35, 212, 145],\n",
            "         [141,  86, 204, 158, 121, 250, 209, 186],\n",
            "         [237,   8, 191, 232, 212,  32,  23, 233],\n",
            "         [185,  70, 218,  87, 122, 120,  71,  47],\n",
            "         [ 28, 116, 181, 249,  63,  83,  85,  82]]])\n"
          ]
        }
      ],
      "source": [
        "# Create a tensor to represent an image that has width of 8, height of 6, and 3 channels.\n",
        "image_tensor = torch.randint(0,256,(3,6,8))\n",
        "print(\"image tensor:\\n\",image_tensor)"
      ]
    },
    {
      "cell_type": "markdown",
      "metadata": {
        "id": "JB3NSCJSb3Qm"
      },
      "source": [
        "# 2. Tensor Indexing and Slicing"
      ]
    },
    {
      "cell_type": "code",
      "execution_count": null,
      "metadata": {
        "colab": {
          "base_uri": "https://localhost:8080/"
        },
        "id": "eoPUyj7Yb3Qm",
        "outputId": "3cb8db9e-f271-4165-aef2-fc0cc9f0f225"
      },
      "outputs": [
        {
          "output_type": "stream",
          "name": "stdout",
          "text": [
            "Arange tensor:\n",
            " tensor([[10, 11, 12, 13],\n",
            "        [14, 15, 16, 17],\n",
            "        [18, 19, 20, 21]])\n"
          ]
        }
      ],
      "source": [
        "# Create a tensor tensor of shape (3, 4) with values ranging from 10 to 22.\n",
        "arange_tensor = torch.arange(10,22).reshape(3,4)\n",
        "print(\"Arange tensor:\\n\",arange_tensor)\n"
      ]
    },
    {
      "cell_type": "code",
      "execution_count": null,
      "metadata": {
        "colab": {
          "base_uri": "https://localhost:8080/"
        },
        "id": "jtqP-xO9b3Qn",
        "outputId": "eaee7683-f00a-42a7-8f9b-8c0597822b40"
      },
      "outputs": [
        {
          "output_type": "stream",
          "name": "stdout",
          "text": [
            "element:\n",
            " tensor(16)\n"
          ]
        }
      ],
      "source": [
        "# Access the element at the second row, third column.\n",
        "element = arange_tensor[1,2]\n",
        "print(\"element:\\n\",element)"
      ]
    },
    {
      "cell_type": "code",
      "execution_count": null,
      "metadata": {
        "colab": {
          "base_uri": "https://localhost:8080/"
        },
        "id": "-AjsEUIQb3Qn",
        "outputId": "37ce8a72-7f46-40d9-d168-a631f67ce54c"
      },
      "outputs": [
        {
          "output_type": "stream",
          "name": "stdout",
          "text": [
            "second row:\n",
            " tensor([14, 15, 16, 17])\n"
          ]
        }
      ],
      "source": [
        "# Print the second row.\n",
        "second_row = arange_tensor[1]\n",
        "print(\"second row:\\n\",second_row)"
      ]
    },
    {
      "cell_type": "code",
      "execution_count": null,
      "metadata": {
        "colab": {
          "base_uri": "https://localhost:8080/"
        },
        "id": "qABYXJJEb3Qn",
        "outputId": "3b21f906-d932-4c04-a170-2a2cf28d8ac5"
      },
      "outputs": [
        {
          "output_type": "stream",
          "name": "stdout",
          "text": [
            "second row:\n",
            " tensor([[10, 11],\n",
            "        [14, 15],\n",
            "        [18, 19]])\n"
          ]
        }
      ],
      "source": [
        "# Print the first two columns.\n",
        "first_two_column = arange_tensor[:, 0:2]\n",
        "print(\"second row:\\n\",first_two_column)"
      ]
    },
    {
      "cell_type": "markdown",
      "metadata": {
        "id": "1pQRQriZb3Qn"
      },
      "source": [
        "# 3. Tensor Arithmetic Operations"
      ]
    },
    {
      "cell_type": "code",
      "execution_count": null,
      "metadata": {
        "colab": {
          "base_uri": "https://localhost:8080/"
        },
        "id": "69Dsv8EYb3Qo",
        "outputId": "a8935cdf-2311-42e9-9b32-9e10b70c8b60"
      },
      "outputs": [
        {
          "output_type": "stream",
          "name": "stdout",
          "text": [
            "tensor_a:\n",
            " tensor([[0.2743, 0.8306, 0.9516],\n",
            "        [0.3555, 0.5665, 0.9559],\n",
            "        [0.7639, 0.3271, 0.1510]])\n",
            "tensor_b:\n",
            " tensor([[0.2037, 0.9836, 0.0806],\n",
            "        [0.0224, 0.5216, 0.0982],\n",
            "        [0.3684, 0.6731, 0.4883]])\n"
          ]
        }
      ],
      "source": [
        "# Create two tensors tensor_a and tensor_b of shape (3, 3) with random values.\n",
        "tensor_a = torch.rand(3,3)\n",
        "tensor_b = torch.rand(3,3)\n",
        "print(\"tensor_a:\\n\",tensor_a)\n",
        "print(\"tensor_b:\\n\",tensor_b)"
      ]
    },
    {
      "cell_type": "code",
      "execution_count": null,
      "metadata": {
        "colab": {
          "base_uri": "https://localhost:8080/"
        },
        "id": "oH2OHny-b3Qo",
        "outputId": "b0b67590-ec3f-4a0a-8638-67160ab754e6"
      },
      "outputs": [
        {
          "output_type": "stream",
          "name": "stdout",
          "text": [
            "Total:\n",
            " tensor([[0.4780, 1.8142, 1.0322],\n",
            "        [0.3779, 1.0881, 1.0541],\n",
            "        [1.1323, 1.0001, 0.6393]])\n"
          ]
        }
      ],
      "source": [
        "# Perform element-wise addition.\n",
        "total = tensor_a + tensor_b\n",
        "print(\"Total:\\n\",total)"
      ]
    },
    {
      "cell_type": "code",
      "execution_count": null,
      "metadata": {
        "colab": {
          "base_uri": "https://localhost:8080/"
        },
        "id": "tBY0zdZgb3Qo",
        "outputId": "0d96a40b-6e16-499a-e332-8bfd71a69d49"
      },
      "outputs": [
        {
          "output_type": "stream",
          "name": "stdout",
          "text": [
            "multiplication:\n",
            " tensor([[0.0559, 0.8170, 0.0767],\n",
            "        [0.0080, 0.2955, 0.0939],\n",
            "        [0.2814, 0.2201, 0.0738]])\n"
          ]
        }
      ],
      "source": [
        "# Perform element-wise multiplication.\n",
        "multiplication = tensor_a * tensor_b\n",
        "print(\"multiplication:\\n\",multiplication)"
      ]
    },
    {
      "cell_type": "code",
      "execution_count": null,
      "metadata": {
        "colab": {
          "base_uri": "https://localhost:8080/"
        },
        "id": "WGvw7RNyb3Qo",
        "outputId": "cb323f1f-5ce6-4969-ff0e-77da85df02a1"
      },
      "outputs": [
        {
          "output_type": "stream",
          "name": "stdout",
          "text": [
            "Subtract:\n",
            " tensor([[-0.0706,  0.1531, -0.8710],\n",
            "        [-0.3331, -0.0449, -0.8577],\n",
            "        [-0.3955,  0.3460,  0.3373]])\n"
          ]
        }
      ],
      "source": [
        "# Subtract tensor_b from tensor_a.\n",
        "Subtract = tensor_b - tensor_a\n",
        "print(\"Subtract:\\n\",Subtract)"
      ]
    },
    {
      "cell_type": "markdown",
      "metadata": {
        "id": "l4sNC8ISb3Qo"
      },
      "source": [
        "# 4. Tensor Aggregation Operations"
      ]
    },
    {
      "cell_type": "code",
      "execution_count": null,
      "metadata": {
        "colab": {
          "base_uri": "https://localhost:8080/"
        },
        "id": "iCpwfAZ_b3Qo",
        "outputId": "8171496e-bcc8-4181-9f8e-3ec5fa5fe0ba"
      },
      "outputs": [
        {
          "output_type": "stream",
          "name": "stdout",
          "text": [
            "Aggregation Tensor:\n",
            " tensor([[1, 2, 3],\n",
            "        [4, 5, 6],\n",
            "        [7, 8, 9]])\n"
          ]
        }
      ],
      "source": [
        "# Create a tensor tensor of shape (3, 3) with values ranging from 1 to 9.\n",
        "agg_tensor=torch.arange(1,10).reshape(3,3)\n",
        "print(\"Aggregation Tensor:\\n\",agg_tensoror )"
      ]
    },
    {
      "cell_type": "code",
      "execution_count": null,
      "metadata": {
        "colab": {
          "base_uri": "https://localhost:8080/"
        },
        "id": "8BFkOAqRb3Qo",
        "outputId": "8c0c2fbd-7d4d-4643-a3c6-f921dcf052b0"
      },
      "outputs": [
        {
          "output_type": "stream",
          "name": "stdout",
          "text": [
            "Aggregation Tensor sun:\n",
            " tensor(45)\n"
          ]
        }
      ],
      "source": [
        "# Compute the sum of all elements.\n",
        "total_sum = agg_tensor.sum()\n",
        "print(\"Aggregation Tensor sun:\\n\",total_sum )"
      ]
    },
    {
      "cell_type": "code",
      "execution_count": null,
      "metadata": {
        "colab": {
          "base_uri": "https://localhost:8080/"
        },
        "id": "TUN81Hnqb3Qp",
        "outputId": "85f940f2-8741-4a3a-fc14-100d0098fa48"
      },
      "outputs": [
        {
          "output_type": "stream",
          "name": "stdout",
          "text": [
            " Tensor Mean:\n",
            " tensor(5.)\n"
          ]
        }
      ],
      "source": [
        "# Compute the mean of all elements.\n",
        "mean = agg_tensor.float().mean()\n",
        "print(\" Tensor Mean:\\n\",mean )"
      ]
    },
    {
      "cell_type": "code",
      "execution_count": null,
      "metadata": {
        "colab": {
          "base_uri": "https://localhost:8080/"
        },
        "id": "3bTNSmDtb3Qp",
        "outputId": "6ab22df9-7f88-4ccd-b39e-9f894520e0cf"
      },
      "outputs": [
        {
          "output_type": "stream",
          "name": "stdout",
          "text": [
            " Tensor Max:\n",
            " tensor(9)\n",
            " Tensor Min:\n",
            " tensor(1)\n"
          ]
        }
      ],
      "source": [
        "# Find the maximum and minimum values.\n",
        "max = agg_tensor.max()\n",
        "min = agg_tensor.min()\n",
        "print(\" Tensor Max:\\n\",max )\n",
        "print(\" Tensor Min:\\n\",min )"
      ]
    },
    {
      "cell_type": "code",
      "execution_count": null,
      "metadata": {
        "colab": {
          "base_uri": "https://localhost:8080/"
        },
        "id": "qWSeY__Lb3Qp",
        "outputId": "67732e78-0c60-4417-9505-cf777281b8ad"
      },
      "outputs": [
        {
          "output_type": "stream",
          "name": "stdout",
          "text": [
            "Row sum:\n",
            " tensor([ 6, 15, 24])\n"
          ]
        }
      ],
      "source": [
        "# Compute the sum along the rows.\n",
        "row_sum = agg_tensor.sum(dim=1)\n",
        "print(\"Row sum:\\n\",row_sum )"
      ]
    },
    {
      "cell_type": "code",
      "execution_count": null,
      "metadata": {
        "colab": {
          "base_uri": "https://localhost:8080/"
        },
        "id": "ATqOW68db3Qp",
        "outputId": "02ddc07d-75f6-4233-dc78-2bfe1144ffa6"
      },
      "outputs": [
        {
          "output_type": "stream",
          "name": "stdout",
          "text": [
            " Tensor Mean:\n",
            " tensor([4., 5., 6.])\n"
          ]
        }
      ],
      "source": [
        "# Compute the mean along the columns.\n",
        "mean = agg_tensor.float().mean(dim=0)\n",
        "print(\" Tensor Mean:\\n\",mean )"
      ]
    },
    {
      "cell_type": "markdown",
      "metadata": {
        "id": "GlcKnt4Gb3Qp"
      },
      "source": [
        "# 5. Tensor Reshaping Operations"
      ]
    },
    {
      "cell_type": "code",
      "execution_count": null,
      "metadata": {
        "colab": {
          "base_uri": "https://localhost:8080/"
        },
        "id": "qBjuN8v3b3Qp",
        "outputId": "94b00fda-e7c7-40b2-9382-d8d93eb35675"
      },
      "outputs": [
        {
          "output_type": "stream",
          "name": "stdout",
          "text": [
            " Tensor shape:\n",
            " torch.Size([2, 3, 4])\n"
          ]
        }
      ],
      "source": [
        "# Create a tensor tensor of shape (2, 3, 4) with random values.\n",
        "shape_rand=torch.rand((2,3,4))\n",
        "print(\" Tensor shape:\\n\",shape_rand.shape )"
      ]
    },
    {
      "cell_type": "code",
      "execution_count": null,
      "metadata": {
        "colab": {
          "base_uri": "https://localhost:8080/"
        },
        "id": "x6I6CDmWb3Qp",
        "outputId": "bd930e8c-fab3-4065-e754-01c096e01c26"
      },
      "outputs": [
        {
          "output_type": "stream",
          "name": "stdout",
          "text": [
            " Tensor shape:\n",
            " tensor([[0.6589, 0.8935, 0.1347, 0.8348, 0.8643, 0.0589],\n",
            "        [0.6171, 0.6220, 0.0035, 0.0653, 0.8357, 0.3612],\n",
            "        [0.1654, 0.9123, 0.5115, 0.1830, 0.6020, 0.4335],\n",
            "        [0.0391, 0.5478, 0.5028, 0.1221, 0.2687, 0.6783]])\n"
          ]
        }
      ],
      "source": [
        "# Reshape the tensor to (4, 6).\n",
        "reshape_rand=shape_rand.reshape((4,6))\n",
        "print(\" Tensor shape:\\n\",reshape_rand)"
      ]
    },
    {
      "cell_type": "code",
      "execution_count": null,
      "metadata": {
        "colab": {
          "base_uri": "https://localhost:8080/"
        },
        "id": "j4hwEbAub3Qq",
        "outputId": "de3f3e74-3540-4b28-b5d8-a58a743c58d9"
      },
      "outputs": [
        {
          "output_type": "stream",
          "name": "stdout",
          "text": [
            "Transpose:\n",
            " tensor([[[0.6589, 0.8935, 0.1347, 0.8348],\n",
            "         [0.1654, 0.9123, 0.5115, 0.1830]],\n",
            "\n",
            "        [[0.8643, 0.0589, 0.6171, 0.6220],\n",
            "         [0.6020, 0.4335, 0.0391, 0.5478]],\n",
            "\n",
            "        [[0.0035, 0.0653, 0.8357, 0.3612],\n",
            "         [0.5028, 0.1221, 0.2687, 0.6783]]])\n"
          ]
        }
      ],
      "source": [
        "# Transpose the tensor (swap the first and second dimensions).\n",
        "transpose_tensor = shape_rand.transpose(0,1)\n",
        "print(\"Transpose:\\n\",transpose_tensor)"
      ]
    },
    {
      "cell_type": "code",
      "execution_count": null,
      "metadata": {
        "colab": {
          "base_uri": "https://localhost:8080/"
        },
        "id": "5X5dfdRRb3Qq",
        "outputId": "aebbd604-ec9f-4323-ff7c-cec10ed46e05"
      },
      "outputs": [
        {
          "output_type": "stream",
          "name": "stdout",
          "text": [
            "Transpose:\n",
            " tensor([[[0.6589, 0.8935, 0.1347, 0.8348],\n",
            "         [0.1654, 0.9123, 0.5115, 0.1830]],\n",
            "\n",
            "        [[0.8643, 0.0589, 0.6171, 0.6220],\n",
            "         [0.6020, 0.4335, 0.0391, 0.5478]],\n",
            "\n",
            "        [[0.0035, 0.0653, 0.8357, 0.3612],\n",
            "         [0.5028, 0.1221, 0.2687, 0.6783]]])\n"
          ]
        }
      ],
      "source": [
        "# Flatten the tensor to a 1D tensor.\n",
        "transpose_tensor = shape_rand.transpose(0,1)\n",
        "print(\"Transpose:\\n\",transpose_tensor)"
      ]
    },
    {
      "cell_type": "markdown",
      "metadata": {
        "id": "5z2ddwbxb3Qq"
      },
      "source": [
        "# 6. Tensor Broadcasting"
      ]
    },
    {
      "cell_type": "code",
      "execution_count": null,
      "metadata": {
        "colab": {
          "base_uri": "https://localhost:8080/"
        },
        "id": "CQ5tUz3Hb3Qq",
        "outputId": "70a814db-8f74-4322-fead-1f71a97f36db"
      },
      "outputs": [
        {
          "output_type": "stream",
          "name": "stdout",
          "text": [
            "tensor_a:\n",
            " tensor([[1, 2, 3],\n",
            "        [4, 5, 6]])\n"
          ]
        }
      ],
      "source": [
        "# Create a tensor tensor_a of shape (2, 3) with values ranging from 1 to 6.\n",
        "tensor_a = torch.arange(1,7).reshape(2,3)\n",
        "print(\"tensor_a:\\n\",tensor_a )\n"
      ]
    },
    {
      "cell_type": "code",
      "execution_count": null,
      "metadata": {
        "colab": {
          "base_uri": "https://localhost:8080/"
        },
        "id": "0FlpMONob3Qq",
        "outputId": "95d70505-6e8b-42ab-9d61-189ca71fa9c6"
      },
      "outputs": [
        {
          "output_type": "stream",
          "name": "stdout",
          "text": [
            "tensor_b shape:\n",
            " torch.Size([3])\n",
            "tensor_a:\n",
            " tensor([1, 2, 3])\n"
          ]
        }
      ],
      "source": [
        "# Create a tensor tensor_b of shape (1, 3) with values [1, 2, 3].\n",
        "tensor_b = torch.tensor((1,2,3))\n",
        "print(\"tensor_b shape:\\n\", tensor_b.shape)\n",
        "print(\"tensor_a:\\n\",tensor_b )"
      ]
    },
    {
      "cell_type": "code",
      "execution_count": null,
      "metadata": {
        "colab": {
          "base_uri": "https://localhost:8080/"
        },
        "id": "HTMahO_Db3Qr",
        "outputId": "0562baaa-1ad0-4822-f967-4b28c6fc8791"
      },
      "outputs": [
        {
          "output_type": "stream",
          "name": "stdout",
          "text": [
            "Broadcast Addition Result:\n",
            " tensor([[2, 4, 6],\n",
            "        [5, 7, 9]])\n"
          ]
        }
      ],
      "source": [
        "# Perform broadcasting addition.\n",
        "result = tensor_a + tensor_b\n",
        "print(\"Broadcast Addition Result:\\n\", result)"
      ]
    },
    {
      "cell_type": "code",
      "execution_count": null,
      "metadata": {
        "colab": {
          "base_uri": "https://localhost:8080/"
        },
        "id": "jhN9u72Rb3Qr",
        "outputId": "59a6e7fd-e11d-4314-c5e8-468c996111aa"
      },
      "outputs": [
        {
          "output_type": "stream",
          "name": "stdout",
          "text": [
            "tensor_c shape: torch.Size([3, 1])\n",
            "tensor_c:\n",
            " tensor([[1],\n",
            "        [2],\n",
            "        [3]])\n"
          ]
        }
      ],
      "source": [
        "# Create a tensor tensor_c of shape (3, 1) with values [1, 2, 3].\n",
        "tensor_c = torch.tensor([[1], [2], [3]])\n",
        "\n",
        "print(\"tensor_c shape:\", tensor_c.shape)\n",
        "print(\"tensor_c:\\n\", tensor_c)"
      ]
    },
    {
      "cell_type": "code",
      "execution_count": null,
      "metadata": {
        "colab": {
          "base_uri": "https://localhost:8080/"
        },
        "id": "28vbNQ75b3Qr",
        "outputId": "28eeea67-5b7d-483e-c20c-5401fefc39bb"
      },
      "outputs": [
        {
          "output_type": "stream",
          "name": "stdout",
          "text": [
            "tensor_b (1, 3):\n",
            " tensor([1, 2, 3])\n",
            "tensor_c (3, 1):\n",
            " tensor([[1],\n",
            "        [2],\n",
            "        [3]])\n",
            "Broadcasted Multiplication Result (3, 3):\n",
            " tensor([[1, 2, 3],\n",
            "        [2, 4, 6],\n",
            "        [3, 6, 9]])\n"
          ]
        }
      ],
      "source": [
        "# Perform broadcasting multiplication.\n",
        "result = tensor_b * tensor_c\n",
        "\n",
        "print(\"tensor_b (1, 3):\\n\", tensor_b)\n",
        "print(\"tensor_c (3, 1):\\n\", tensor_c)\n",
        "print(\"Broadcasted Multiplication Result (3, 3):\\n\", result)"
      ]
    },
    {
      "cell_type": "markdown",
      "metadata": {
        "id": "cFVWNNjIb3Qr"
      },
      "source": [
        "# 7. Tensor Device Management"
      ]
    },
    {
      "cell_type": "code",
      "execution_count": null,
      "metadata": {
        "colab": {
          "base_uri": "https://localhost:8080/"
        },
        "id": "Pa-doiK-b3Qr",
        "outputId": "1b62d612-bff7-420d-f7f3-639449ec086b"
      },
      "outputs": [
        {
          "output_type": "stream",
          "name": "stdout",
          "text": [
            "Device: cpu\n",
            "Tensor:\n",
            " tensor([[0.4984, 0.2228, 0.3519],\n",
            "        [0.1305, 0.6292, 0.7713],\n",
            "        [0.3368, 0.9702, 0.1657]])\n"
          ]
        }
      ],
      "source": [
        "# Create a tensor of shape (3, 3) with random values and move it to GPU (if available).\n",
        "device = torch.device(\"gpu\" if torch.cuda.is_available() else \"cpu\")\n",
        "tensor = torch.rand((3, 3), device=device)\n",
        "\n",
        "print(\"Device:\", tensor.device)\n",
        "print(\"Tensor:\\n\", tensor)\n"
      ]
    },
    {
      "cell_type": "code",
      "execution_count": null,
      "metadata": {
        "colab": {
          "base_uri": "https://localhost:8080/"
        },
        "id": "yhHVO5CWb3Qr",
        "outputId": "648f7e23-f0a7-4dca-d319-86806708f0c9"
      },
      "outputs": [
        {
          "output_type": "stream",
          "name": "stdout",
          "text": [
            "Tensor is on CPU.\n",
            "Moved tensor back to: cpu\n"
          ]
        }
      ],
      "source": [
        "# Verify if the tensor is on GPU.\n",
        "if tensor.is_cuda:\n",
        "    print(\"Tensor is on GPU:\", tensor.device)\n",
        "else:\n",
        "    print(\"Tensor is on CPU.\")\n",
        "# Move the tensor back to CPU.\n",
        "\n",
        "tensor_cpu = tensor.cpu()\n",
        "\n",
        "print(\"Moved tensor back to:\", tensor_cpu.device)"
      ]
    },
    {
      "cell_type": "markdown",
      "metadata": {
        "id": "mIVoHpqXb3Qr"
      },
      "source": [
        "# 8. Tensor Cloning and Detaching"
      ]
    },
    {
      "cell_type": "code",
      "execution_count": null,
      "metadata": {
        "colab": {
          "base_uri": "https://localhost:8080/"
        },
        "id": "slWhuy5xb3Qx",
        "outputId": "7e1dee0d-2a67-4506-b1fb-f329266e23e3"
      },
      "outputs": [
        {
          "output_type": "stream",
          "name": "stdout",
          "text": [
            "Tensor: tensor([1., 2., 3.], requires_grad=True)\n"
          ]
        }
      ],
      "source": [
        "# Create a tensor tensor of shape (3,) with values [1, 2, 3] and set requires_grad=True.\n",
        "tensor = torch.tensor([1.0, 2.0, 3.0], requires_grad=True)\n",
        "print(\"Tensor:\", tensor)"
      ]
    },
    {
      "cell_type": "code",
      "execution_count": null,
      "metadata": {
        "colab": {
          "base_uri": "https://localhost:8080/"
        },
        "id": "S-FlrDPeb3Qx",
        "outputId": "ef81e1e4-6ed4-458e-fa25-bfa4fd5ae892"
      },
      "outputs": [
        {
          "output_type": "stream",
          "name": "stdout",
          "text": [
            "Cloned tensor:\n",
            " tensor([1., 2., 3.], grad_fn=<CloneBackward0>)\n"
          ]
        }
      ],
      "source": [
        "# Clone the tensor and print the cloned tensor.\n",
        "cloned_tensor = tensor.clone()\n",
        "print(\"Cloned tensor:\\n\", cloned_tensor)\n"
      ]
    },
    {
      "cell_type": "code",
      "execution_count": null,
      "metadata": {
        "colab": {
          "base_uri": "https://localhost:8080/"
        },
        "id": "TjrwMPpBb3Qy",
        "outputId": "0b55101d-3cda-4e45-d4ea-3555a20500a3"
      },
      "outputs": [
        {
          "output_type": "stream",
          "name": "stdout",
          "text": [
            "Original tensor (requires_grad=True):\n",
            " tensor([1., 2., 3.], requires_grad=True)\n",
            "Detached tensor :\n",
            " tensor([1., 2., 3.])\n"
          ]
        }
      ],
      "source": [
        "# Detach the tensor from the computation graph and print the detached tensor.\n",
        "detached_tensor = tensor.detach()\n",
        "print(\"Original tensor (requires_grad=True):\\n\", tensor)\n",
        "print(\"Detached tensor :\\n\", detached_tensor)"
      ]
    },
    {
      "cell_type": "markdown",
      "metadata": {
        "id": "B00Gt6pfb3Qy"
      },
      "source": [
        "# 9. High Dimensional Tensors"
      ]
    },
    {
      "cell_type": "code",
      "execution_count": null,
      "metadata": {
        "colab": {
          "base_uri": "https://localhost:8080/"
        },
        "id": "73QGkHmkb3Qy",
        "outputId": "7c4a7e8e-4f69-4ab1-b165-32e926a318ef"
      },
      "outputs": [
        {
          "output_type": "stream",
          "name": "stdout",
          "text": [
            "Tensor:\n",
            " tensor([[[[0.8506, 0.7663, 0.9532, 0.4635, 0.1664],\n",
            "          [0.4312, 0.2447, 0.7688, 0.2678, 0.0436],\n",
            "          [0.6579, 0.8655, 0.9353, 0.3475, 0.9425],\n",
            "          [0.3214, 0.1015, 0.1933, 0.1874, 0.6317]],\n",
            "\n",
            "         [[0.8130, 0.3463, 0.2954, 0.1583, 0.2021],\n",
            "          [0.6830, 0.4868, 0.3854, 0.5713, 0.8268],\n",
            "          [0.5579, 0.9061, 0.9916, 0.6566, 0.4958],\n",
            "          [0.5972, 0.4385, 0.9466, 0.0925, 0.4778]],\n",
            "\n",
            "         [[0.2799, 0.1127, 0.1394, 0.2841, 0.7426],\n",
            "          [0.8214, 0.4630, 0.1776, 0.8029, 0.9555],\n",
            "          [0.7165, 0.8881, 0.0881, 0.4574, 0.4893],\n",
            "          [0.7500, 0.6129, 0.7906, 0.5119, 0.3953]]],\n",
            "\n",
            "\n",
            "        [[[0.2047, 0.2592, 0.4018, 0.5175, 0.4670],\n",
            "          [0.1648, 0.8836, 0.6551, 0.3126, 0.1959],\n",
            "          [0.7995, 0.0560, 0.2614, 0.2364, 0.6015],\n",
            "          [0.1164, 0.1494, 0.0611, 0.1184, 0.6187]],\n",
            "\n",
            "         [[0.7636, 0.4656, 0.8191, 0.3029, 0.8304],\n",
            "          [0.2647, 0.7080, 0.5261, 0.2963, 0.1292],\n",
            "          [0.7818, 0.9145, 0.8092, 0.1726, 0.1892],\n",
            "          [0.9337, 0.1541, 0.9084, 0.4607, 0.5948]],\n",
            "\n",
            "         [[0.7821, 0.7356, 0.9555, 0.4131, 0.1808],\n",
            "          [0.3853, 0.6565, 0.5360, 0.5430, 0.2896],\n",
            "          [0.0046, 0.3838, 0.6553, 0.5273, 0.2956],\n",
            "          [0.0566, 0.2852, 0.4926, 0.7738, 0.2480]]]])\n"
          ]
        }
      ],
      "source": [
        "# Create a 4D tensor tensor of shape (2, 3, 4, 5) with random values.\n",
        "tensor = torch.rand((2, 3, 4, 5))\n",
        "print(\"Tensor:\\n\", tensor)"
      ]
    },
    {
      "cell_type": "code",
      "execution_count": null,
      "metadata": {
        "colab": {
          "base_uri": "https://localhost:8080/"
        },
        "id": "XvgVw3GVb3Qy",
        "outputId": "f4581078-ec6b-48d3-8091-ce6c7094b382"
      },
      "outputs": [
        {
          "output_type": "stream",
          "name": "stdout",
          "text": [
            "Tensor shape: torch.Size([2, 3, 4, 5])\n"
          ]
        }
      ],
      "source": [
        "# Print the shape of the tensor.\n",
        "print(\"Tensor shape:\", tensor.shape)\n"
      ]
    },
    {
      "cell_type": "code",
      "execution_count": null,
      "metadata": {
        "colab": {
          "base_uri": "https://localhost:8080/"
        },
        "id": "VygXOPNob3Qy",
        "outputId": "b5f73943-e6ba-456d-e13a-2c043c6c47f1"
      },
      "outputs": [
        {
          "output_type": "stream",
          "name": "stdout",
          "text": [
            "Element at position (1, 2, 3, 4): 0.24797481298446655\n"
          ]
        }
      ],
      "source": [
        "# Access the element at position (1, 2, 3, 4).\n",
        "element = tensor[1, 2, 3, 4]\n",
        "\n",
        "print(\"Element at position (1, 2, 3, 4):\", element.item())"
      ]
    },
    {
      "cell_type": "code",
      "execution_count": null,
      "metadata": {
        "colab": {
          "base_uri": "https://localhost:8080/"
        },
        "id": "59FWJpy8b3Qy",
        "outputId": "69b8a652-dce4-43e4-8bfc-7ec5a4f0235e"
      },
      "outputs": [
        {
          "output_type": "stream",
          "name": "stdout",
          "text": [
            "Sliced tensor:\n",
            " tensor([[[[0.8506, 0.7663, 0.9532, 0.4635, 0.1664],\n",
            "          [0.4312, 0.2447, 0.7688, 0.2678, 0.0436],\n",
            "          [0.6579, 0.8655, 0.9353, 0.3475, 0.9425],\n",
            "          [0.3214, 0.1015, 0.1933, 0.1874, 0.6317]],\n",
            "\n",
            "         [[0.8130, 0.3463, 0.2954, 0.1583, 0.2021],\n",
            "          [0.6830, 0.4868, 0.3854, 0.5713, 0.8268],\n",
            "          [0.5579, 0.9061, 0.9916, 0.6566, 0.4958],\n",
            "          [0.5972, 0.4385, 0.9466, 0.0925, 0.4778]],\n",
            "\n",
            "         [[0.2799, 0.1127, 0.1394, 0.2841, 0.7426],\n",
            "          [0.8214, 0.4630, 0.1776, 0.8029, 0.9555],\n",
            "          [0.7165, 0.8881, 0.0881, 0.4574, 0.4893],\n",
            "          [0.7500, 0.6129, 0.7906, 0.5119, 0.3953]]],\n",
            "\n",
            "\n",
            "        [[[0.2047, 0.2592, 0.4018, 0.5175, 0.4670],\n",
            "          [0.1648, 0.8836, 0.6551, 0.3126, 0.1959],\n",
            "          [0.7995, 0.0560, 0.2614, 0.2364, 0.6015],\n",
            "          [0.1164, 0.1494, 0.0611, 0.1184, 0.6187]],\n",
            "\n",
            "         [[0.7636, 0.4656, 0.8191, 0.3029, 0.8304],\n",
            "          [0.2647, 0.7080, 0.5261, 0.2963, 0.1292],\n",
            "          [0.7818, 0.9145, 0.8092, 0.1726, 0.1892],\n",
            "          [0.9337, 0.1541, 0.9084, 0.4607, 0.5948]],\n",
            "\n",
            "         [[0.7821, 0.7356, 0.9555, 0.4131, 0.1808],\n",
            "          [0.3853, 0.6565, 0.5360, 0.5430, 0.2896],\n",
            "          [0.0046, 0.3838, 0.6553, 0.5273, 0.2956],\n",
            "          [0.0566, 0.2852, 0.4926, 0.7738, 0.2480]]]])\n"
          ]
        }
      ],
      "source": [
        "# Slice and print the first two elements along the first dimension.\n",
        "sliced_tensor = tensor[:2]\n",
        "print(\"Sliced tensor:\\n\", sliced_tensor)"
      ]
    },
    {
      "cell_type": "code",
      "execution_count": null,
      "metadata": {
        "colab": {
          "base_uri": "https://localhost:8080/"
        },
        "id": "rAGKYgt4b3Qz",
        "outputId": "e3c9563c-d81f-426b-bbec-d283650138db"
      },
      "outputs": [
        {
          "output_type": "stream",
          "name": "stdout",
          "text": [
            "Sum of all elements: 58.85488510131836\n"
          ]
        }
      ],
      "source": [
        "# Sum all elements in the tensor.\n",
        "total_sum = tensor.sum()\n",
        "\n",
        "print(\"Sum of all elements:\", total_sum.item())"
      ]
    },
    {
      "cell_type": "code",
      "execution_count": null,
      "metadata": {
        "colab": {
          "base_uri": "https://localhost:8080/"
        },
        "id": "NJeNcWv0b3Qz",
        "outputId": "adbad9e5-5dfe-4e38-c55a-1ec823191563"
      },
      "outputs": [
        {
          "output_type": "stream",
          "name": "stdout",
          "text": [
            "tensor([[[0.5653, 0.4945, 0.7127, 0.3165, 0.4460],\n",
            "         [0.6628, 0.5445, 0.6548, 0.3697, 0.5006],\n",
            "         [0.6419, 0.5192, 0.2989, 0.5141, 0.6457]],\n",
            "\n",
            "        [[0.3213, 0.3371, 0.3449, 0.2962, 0.4708],\n",
            "         [0.6860, 0.5606, 0.7657, 0.3082, 0.4359],\n",
            "         [0.3072, 0.5153, 0.6599, 0.5643, 0.2535]]])\n"
          ]
        }
      ],
      "source": [
        "# Compute the mean along the third dimension.\n",
        "mean_along_dim3 = tensor.mean(dim=2)\n",
        "print(mean_along_dim3)"
      ]
    },
    {
      "cell_type": "markdown",
      "metadata": {
        "id": "ls2iNo8Ab3Qz"
      },
      "source": [
        "# 10. Combining Tensor Operations"
      ]
    },
    {
      "cell_type": "code",
      "execution_count": null,
      "metadata": {
        "colab": {
          "base_uri": "https://localhost:8080/"
        },
        "id": "iCg8r_Zrb3Qz",
        "outputId": "19218e57-49e1-44e6-e8bf-f9e828ef787f"
      },
      "outputs": [
        {
          "output_type": "stream",
          "name": "stdout",
          "text": [
            "tensor_a:\n",
            " tensor([[[0.7723, 0.0605, 0.0817, 0.7494],\n",
            "         [0.9457, 0.7759, 0.6000, 0.0331],\n",
            "         [0.0603, 0.2260, 0.7794, 0.8668]],\n",
            "\n",
            "        [[0.2055, 0.1002, 0.1732, 0.3006],\n",
            "         [0.1338, 0.8436, 0.0894, 0.1517],\n",
            "         [0.6311, 0.5508, 0.7932, 0.8376]]])\n",
            "\n",
            "tensor_b:\n",
            " tensor([[[0.5860, 1.0000, 0.2162, 0.0663],\n",
            "         [0.9034, 0.0789, 0.5729, 0.5648],\n",
            "         [0.4074, 0.4089, 0.2853, 0.3268]],\n",
            "\n",
            "        [[0.6495, 0.6362, 0.7096, 0.6953],\n",
            "         [0.5589, 0.7143, 0.8394, 0.5731],\n",
            "         [0.4832, 0.8306, 0.7224, 0.8040]]])\n"
          ]
        }
      ],
      "source": [
        "# Create two tensors tensor_a and tensor_b of shape (2, 3, 4) with random values.\n",
        "tensor_a = torch.rand((2, 3, 4))\n",
        "tensor_b = torch.rand((2, 3, 4))\n",
        "\n",
        "print(\"tensor_a:\\n\", tensor_a)\n",
        "print(\"\\ntensor_b:\\n\", tensor_b)"
      ]
    },
    {
      "cell_type": "code",
      "execution_count": null,
      "metadata": {
        "colab": {
          "base_uri": "https://localhost:8080/"
        },
        "id": "3odmnqHRb3Qz",
        "outputId": "562651a3-c204-45cc-db53-c56bc6f02bfd"
      },
      "outputs": [
        {
          "output_type": "stream",
          "name": "stdout",
          "text": [
            "Result of Addition:\n",
            " tensor([[[1.3583, 1.0605, 0.2979, 0.8157],\n",
            "         [1.8491, 0.8548, 1.1729, 0.5980],\n",
            "         [0.4677, 0.6349, 1.0647, 1.1936]],\n",
            "\n",
            "        [[0.8550, 0.7364, 0.8828, 0.9959],\n",
            "         [0.6927, 1.5580, 0.9288, 0.7248],\n",
            "         [1.1143, 1.3814, 1.5156, 1.6416]]])\n"
          ]
        }
      ],
      "source": [
        "# Add the two tensors.\n",
        "result = tensor_a + tensor_b\n",
        "print(\"Result of Addition:\\n\", result)"
      ]
    },
    {
      "cell_type": "code",
      "execution_count": null,
      "metadata": {
        "colab": {
          "base_uri": "https://localhost:8080/"
        },
        "id": "x668zkChb3Qz",
        "outputId": "f470fd78-5b90-4a40-e6c7-d7492f44e4af"
      },
      "outputs": [
        {
          "output_type": "stream",
          "name": "stdout",
          "text": [
            "Scaled Result :\n",
            " tensor([[[2.7166, 2.1210, 0.5958, 1.6313],\n",
            "         [3.6982, 1.7097, 2.3459, 1.1959],\n",
            "         [0.9354, 1.2699, 2.1294, 2.3872]],\n",
            "\n",
            "        [[1.7100, 1.4728, 1.7655, 1.9917],\n",
            "         [1.3853, 3.1159, 1.8577, 1.4495],\n",
            "         [2.2285, 2.7628, 3.0312, 3.2833]]])\n"
          ]
        }
      ],
      "source": [
        "# Multiply the resulting tensor by 2.\n",
        "scaled_result = result * 2\n",
        "print(\"Scaled Result :\\n\", scaled_result)"
      ]
    },
    {
      "cell_type": "code",
      "execution_count": null,
      "metadata": {
        "colab": {
          "base_uri": "https://localhost:8080/"
        },
        "id": "BjfKZTo9b3Q0",
        "outputId": "b4b847dc-b5ca-47de-b2b0-361b4b394f70"
      },
      "outputs": [
        {
          "output_type": "stream",
          "name": "stdout",
          "text": [
            "Reshaped tensor:\n",
            " tensor([[1.3583, 1.0605, 0.2979, 0.8157, 1.8491, 0.8548],\n",
            "        [1.1729, 0.5980, 0.4677, 0.6349, 1.0647, 1.1936],\n",
            "        [0.8550, 0.7364, 0.8828, 0.9959, 0.6927, 1.5580],\n",
            "        [0.9288, 0.7248, 1.1143, 1.3814, 1.5156, 1.6416]])\n"
          ]
        }
      ],
      "source": [
        "# Reshape the tensor to (4, 6).\n",
        "reshaped = result.reshape(4, 6)\n",
        "print(\"Reshaped tensor:\\n\", reshaped)"
      ]
    },
    {
      "cell_type": "code",
      "execution_count": null,
      "metadata": {
        "colab": {
          "base_uri": "https://localhost:8080/"
        },
        "id": "OhRrw6fSb3Q0",
        "outputId": "eb4a680b-1c36-4ab3-c294-e28dacd51477"
      },
      "outputs": [
        {
          "output_type": "stream",
          "name": "stdout",
          "text": [
            "Sum along columns :\n",
            " tensor([4.3151, 3.1196, 2.7626, 3.8279, 5.1221, 5.2480])\n"
          ]
        }
      ],
      "source": [
        "# Compute the sum along the columns.\n",
        "column_sums = reshaped.sum(dim=0)\n",
        "print(\"Sum along columns :\\n\", column_sums)"
      ]
    },
    {
      "cell_type": "markdown",
      "metadata": {
        "id": "GmSCoba9b3Q0"
      },
      "source": [
        "-------------------------------------------- END ----------------------------------------------"
      ]
    }
  ],
  "metadata": {
    "kernelspec": {
      "display_name": "pytorch_env",
      "language": "python",
      "name": "python3"
    },
    "language_info": {
      "codemirror_mode": {
        "name": "ipython",
        "version": 3
      },
      "file_extension": ".py",
      "mimetype": "text/x-python",
      "name": "python",
      "nbconvert_exporter": "python",
      "pygments_lexer": "ipython3",
      "version": "3.10.14"
    },
    "colab": {
      "provenance": [],
      "collapsed_sections": [
        "1pQRQriZb3Qn"
      ],
      "include_colab_link": true
    }
  },
  "nbformat": 4,
  "nbformat_minor": 0
}